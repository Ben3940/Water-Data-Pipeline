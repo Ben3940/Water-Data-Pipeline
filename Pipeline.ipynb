{
 "cells": [
  {
   "cell_type": "markdown",
   "id": "ecaedebc-887c-473f-96ec-dbb570ec4f5b",
   "metadata": {},
   "source": [
    "# Water Potability Pipeline\n",
    "\n",
    "This notebook will walk through the steps of pre-processing a _water potability_ dataset from Kaggle.com.  The dataset will be fed into a ML model to predict if a given water sample is potable or not.\n",
    "\n",
    "### Imports\n",
    "Imports all modules needed for this data pipeline"
   ]
  },
  {
   "cell_type": "code",
   "execution_count": 1,
   "id": "578ed000-041c-46e2-9579-1c479c378e8b",
   "metadata": {},
   "outputs": [],
   "source": [
    "import pandas as pd\n",
    "import numpy as np\n",
    "import matplotlib.pyplot as plt"
   ]
  },
  {
   "cell_type": "markdown",
   "id": "7ec04416-35be-40cc-8a5b-f4f8976808c5",
   "metadata": {},
   "source": [
    "## Assessing Raw Data\n",
    "\n",
    "This part will briefly assess the raw data that will be fed into the data pipeline.  This will identify some apsects to target during the _pre-processing_ portion of the data pipeline."
   ]
  },
  {
   "cell_type": "code",
   "execution_count": 70,
   "id": "adee3040-426d-4cb4-ab18-d72d1f511718",
   "metadata": {},
   "outputs": [
    {
     "name": "stdout",
     "output_type": "stream",
     "text": [
      "Total Rows: 3276\n",
      "Column Name       | NaN Counts  | NaN  |    Max    | Min\n",
      "ph                |    491\t| 15.0\t|   nan\t| nan \n",
      "Hardness          |    0\t| 0.0\t|   323.12\t| 47.43 \n",
      "Solids            |    0\t| 0.0\t|   61227.2\t| 320.94 \n",
      "Chloramines       |    0\t| 0.0\t|   13.13\t| 0.35 \n",
      "Sulfate           |    781\t| 24.0\t|   481.03\t| 129.0 \n",
      "Conductivity      |    0\t| 0.0\t|   753.34\t| 181.48 \n",
      "Organic_carbon    |    0\t| 0.0\t|   28.3\t| 2.2 \n",
      "Trihalomethanes   |    162\t| 5.0\t|   124.0\t| 0.74 \n",
      "Turbidity         |    0\t| 0.0\t|   6.74\t| 1.45 \n",
      "Potability        |    0\t| 0.0\t|   1\t| 0 \n"
     ]
    }
   ],
   "source": [
    "file = \"data/water_potability.csv\"\n",
    "df = pd.read_csv(file)\n",
    "row_count = len(df['ph'])\n",
    "print(f\"Total Rows: {row_count}\")\n",
    "print(f\"{'Column Name':<18}| NaN Counts  | NaN  |    Max    | Min\")\n",
    "for col in df.columns:\n",
    "    NaN_count = len(df[df[col].isnull()])\n",
    "    maximum = round(max(df[col]), 2)\n",
    "    minimum = round(min(df[col]), 2)\n",
    "    print(\"{col:<17} |    {nan}\\t| {nan_per}\\t|   {maximum}\\t| {minimum} \".format(col=col, nan=NaN_count, nan_per=round(NaN_count / row_count, 2) * 100, maximum=maximum, minimum=minimum))"
   ]
  }
 ],
 "metadata": {
  "kernelspec": {
   "display_name": "Python 3 (ipykernel)",
   "language": "python",
   "name": "python3"
  },
  "language_info": {
   "codemirror_mode": {
    "name": "ipython",
    "version": 3
   },
   "file_extension": ".py",
   "mimetype": "text/x-python",
   "name": "python",
   "nbconvert_exporter": "python",
   "pygments_lexer": "ipython3",
   "version": "3.10.12"
  }
 },
 "nbformat": 4,
 "nbformat_minor": 5
}
