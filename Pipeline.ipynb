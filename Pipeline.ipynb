{
 "cells": [
  {
   "cell_type": "markdown",
   "id": "ecaedebc-887c-473f-96ec-dbb570ec4f5b",
   "metadata": {},
   "source": [
    "# Water Potability Pipeline\n",
    "\n",
    "This notebook will walk through the steps of pre-processing a <i>water potability</i> dataset from Kaggle.com.  The dataset will be fed into a ML model to predict if a given water sample is potable or not."
   ]
  }
 ],
 "metadata": {
  "kernelspec": {
   "display_name": "Python 3 (ipykernel)",
   "language": "python",
   "name": "python3"
  },
  "language_info": {
   "codemirror_mode": {
    "name": "ipython",
    "version": 3
   },
   "file_extension": ".py",
   "mimetype": "text/x-python",
   "name": "python",
   "nbconvert_exporter": "python",
   "pygments_lexer": "ipython3",
   "version": "3.10.12"
  }
 },
 "nbformat": 4,
 "nbformat_minor": 5
}
